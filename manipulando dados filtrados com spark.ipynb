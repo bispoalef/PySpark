{
  "nbformat": 4,
  "nbformat_minor": 0,
  "metadata": {
    "colab": {
      "provenance": []
    },
    "kernelspec": {
      "name": "python3",
      "display_name": "Python 3"
    },
    "language_info": {
      "name": "python"
    }
  },
  "cells": [
    {
      "cell_type": "code",
      "execution_count": 1,
      "metadata": {
        "id": "BIt4JF568OFf"
      },
      "outputs": [],
      "source": [
        "!apt-get install openjdk-8-jdk-headless -qq > /dev/null"
      ]
    },
    {
      "cell_type": "code",
      "source": [
        "!wget -q https://archive.apache.org/dist/spark/spark-3.1.2/spark-3.1.2-bin-hadoop2.7.tgz"
      ],
      "metadata": {
        "id": "IzublFVC8oiP"
      },
      "execution_count": 2,
      "outputs": []
    },
    {
      "cell_type": "code",
      "source": [
        "!tar xf spark-3.1.2-bin-hadoop2.7.tgz"
      ],
      "metadata": {
        "id": "HHSviYWG8pnw"
      },
      "execution_count": 3,
      "outputs": []
    },
    {
      "cell_type": "code",
      "source": [
        "import os"
      ],
      "metadata": {
        "id": "lXY6uVTR8ql0"
      },
      "execution_count": 4,
      "outputs": []
    },
    {
      "cell_type": "code",
      "source": [
        "os.environ[\"JAVA_HOME\"] = \"/usr/lib/jvm/java-8-openjdk-amd64\""
      ],
      "metadata": {
        "id": "uQVgqRxx8u9x"
      },
      "execution_count": 5,
      "outputs": []
    },
    {
      "cell_type": "code",
      "source": [
        "os.environ[\"SPARK_HOME\"] = \"/content/spark-3.1.2-bin-hadoop2.7\""
      ],
      "metadata": {
        "id": "-G1RZJdU8vsL"
      },
      "execution_count": 6,
      "outputs": []
    },
    {
      "cell_type": "code",
      "source": [
        "!pip install -q findspark"
      ],
      "metadata": {
        "id": "RZOI3SZK8w5w"
      },
      "execution_count": 7,
      "outputs": []
    },
    {
      "cell_type": "code",
      "source": [
        "import findspark"
      ],
      "metadata": {
        "id": "F5UtxCfi8x-M"
      },
      "execution_count": 8,
      "outputs": []
    },
    {
      "cell_type": "code",
      "source": [
        "findspark.init()"
      ],
      "metadata": {
        "id": "L4OGi__68y_W"
      },
      "execution_count": 9,
      "outputs": []
    },
    {
      "cell_type": "code",
      "source": [
        "from pyspark.sql import *"
      ],
      "metadata": {
        "id": "NV97Az5M829_"
      },
      "execution_count": 10,
      "outputs": []
    },
    {
      "cell_type": "code",
      "source": [
        "from pyspark.sql.functions import *"
      ],
      "metadata": {
        "id": "UlmFlkEQ0B4C"
      },
      "execution_count": 20,
      "outputs": []
    },
    {
      "cell_type": "code",
      "source": [
        "from pyspark.sql.types import *"
      ],
      "metadata": {
        "id": "0DwfB58q0Ear"
      },
      "execution_count": 21,
      "outputs": []
    },
    {
      "cell_type": "code",
      "source": [
        "sc = SparkSession.builder.master('local[*]').getOrCreate()"
      ],
      "metadata": {
        "id": "ghPMQIESA2Q_"
      },
      "execution_count": 11,
      "outputs": []
    },
    {
      "cell_type": "code",
      "source": [
        "sc"
      ],
      "metadata": {
        "colab": {
          "base_uri": "https://localhost:8080/",
          "height": 219
        },
        "id": "eGUttmaCA3ii",
        "outputId": "2365f60d-e9fd-4e74-b0a0-e680b82c7318"
      },
      "execution_count": 12,
      "outputs": [
        {
          "output_type": "execute_result",
          "data": {
            "text/plain": [
              "<pyspark.sql.session.SparkSession at 0x7f59680f2bf0>"
            ],
            "text/html": [
              "\n",
              "            <div>\n",
              "                <p><b>SparkSession - in-memory</b></p>\n",
              "                \n",
              "        <div>\n",
              "            <p><b>SparkContext</b></p>\n",
              "\n",
              "            <p><a href=\"http://549268a8726f:4040\">Spark UI</a></p>\n",
              "\n",
              "            <dl>\n",
              "              <dt>Version</dt>\n",
              "                <dd><code>v3.1.2</code></dd>\n",
              "              <dt>Master</dt>\n",
              "                <dd><code>local[*]</code></dd>\n",
              "              <dt>AppName</dt>\n",
              "                <dd><code>pyspark-shell</code></dd>\n",
              "            </dl>\n",
              "        </div>\n",
              "        \n",
              "            </div>\n",
              "        "
            ]
          },
          "metadata": {},
          "execution_count": 12
        }
      ]
    },
    {
      "cell_type": "code",
      "source": [
        "dataFrame = sc.read.csv(\"/content/dados/pagamentos.csv\", inferSchema=True)"
      ],
      "metadata": {
        "id": "x486o6yKA6wN"
      },
      "execution_count": 145,
      "outputs": []
    },
    {
      "cell_type": "code",
      "source": [
        "dataFrame = dataFrame.withColumnRenamed(\"_c0\", \"Orgao\") \\\n",
        "       .withColumnRenamed(\"_c1\", \"Orgao_Supervisor\") \\\n",
        "       .withColumnRenamed(\"_c2\", \"Data\") \\\n",
        "       .withColumnRenamed(\"_c3\", \"Nr_da_OB\") \\\n",
        "       .withColumnRenamed(\"_c4\", \"Nr_do_Empenho\") \\\n",
        "       .withColumnRenamed(\"_c5\", \"Codigo_Favorecido\") \\\n",
        "       .withColumnRenamed(\"_c6\", \"Nome_Favorecido\") \\\n",
        "       .withColumnRenamed(\"_c7\", \"Valor_Bruto\") \\\n",
        "       .withColumnRenamed(\"_c8\", \"Valor_Retido\") \\\n",
        "       .withColumnRenamed(\"_c9\", \"Valor_Pago\")"
      ],
      "metadata": {
        "id": "jGHnxfygTUSl"
      },
      "execution_count": 146,
      "outputs": []
    },
    {
      "cell_type": "code",
      "source": [
        "dataFrame = dataFrame.withColumn(\"Data\", to_date(col(\"Data\"), \"dd/MM/yyyy\"))"
      ],
      "metadata": {
        "id": "37mfCwdc5vfS"
      },
      "execution_count": 147,
      "outputs": []
    },
    {
      "cell_type": "code",
      "source": [
        "dataFrame = dataFrame.withColumn(\"Valor_Bruto\", regexp_replace(col(\"Valor_Bruto\"), \"\\\\.\", \"\").cast(\"string\")) \\\n",
        ".withColumn(\"Valor_Retido\", regexp_replace(col(\"Valor_Retido\"), \"\\\\.\", \"\").cast(\"string\")) \\\n",
        ".withColumn(\"Valor_Pago\", regexp_replace(col(\"Valor_Pago\"), \"\\\\.\", \"\").cast(\"string\")) \\\n",
        ".withColumn(\"Valor_Bruto\", regexp_replace(col(\"Valor_Bruto\"), \",\", \".\").cast(\"double\")) \\\n",
        ".withColumn(\"Valor_Retido\", regexp_replace(col(\"Valor_Retido\"), \",\", \".\").cast(\"double\")) \\\n",
        ".withColumn(\"Valor_Pago\", regexp_replace(col(\"Valor_Pago\"), \",\", \".\").cast(\"double\"))"
      ],
      "metadata": {
        "id": "608N_Qho51Z0"
      },
      "execution_count": 148,
      "outputs": []
    },
    {
      "cell_type": "code",
      "source": [
        "dataFrame.printSchema()"
      ],
      "metadata": {
        "colab": {
          "base_uri": "https://localhost:8080/"
        },
        "id": "6QIqst-n5WP3",
        "outputId": "3962f22a-c154-43a1-e35a-61c5d7cd6f1a"
      },
      "execution_count": 149,
      "outputs": [
        {
          "output_type": "stream",
          "name": "stdout",
          "text": [
            "root\n",
            " |-- Orgao: string (nullable = true)\n",
            " |-- Orgao_Supervisor: string (nullable = true)\n",
            " |-- Data: date (nullable = true)\n",
            " |-- Nr_da_OB: integer (nullable = true)\n",
            " |-- Nr_do_Empenho: string (nullable = true)\n",
            " |-- Codigo_Favorecido: string (nullable = true)\n",
            " |-- Nome_Favorecido: string (nullable = true)\n",
            " |-- Valor_Bruto: double (nullable = true)\n",
            " |-- Valor_Retido: double (nullable = true)\n",
            " |-- Valor_Pago: double (nullable = true)\n",
            "\n"
          ]
        }
      ]
    },
    {
      "cell_type": "code",
      "source": [
        "dataFrame.show(2)"
      ],
      "metadata": {
        "colab": {
          "base_uri": "https://localhost:8080/"
        },
        "id": "_ssy88CIBVa6",
        "outputId": "867a8481-92a4-4bc6-d865-c840c8c5a565"
      },
      "execution_count": 150,
      "outputs": [
        {
          "output_type": "stream",
          "name": "stdout",
          "text": [
            "+-----+----------------+----------+--------+-------------+-----------------+--------------------+-----------+------------+----------+\n",
            "|Orgao|Orgao_Supervisor|      Data|Nr_da_OB|Nr_do_Empenho|Codigo_Favorecido|     Nome_Favorecido|Valor_Bruto|Valor_Retido|Valor_Pago|\n",
            "+-----+----------------+----------+--------+-------------+-----------------+--------------------+-----------+------------+----------+\n",
            "|SEFAZ|            null|2018-09-27|    4438| 2018NE000023|      XXX803615XX|ADAO JOSE DOS SANTOS|      100.0|         0.0|     100.0|\n",
            "|SEFAZ|            null|2018-09-13|    4181| 2018NE000096|      XXX660555XX|ADEMARIO ALVES DE...|    1041.03|         0.0|   1041.03|\n",
            "+-----+----------------+----------+--------+-------------+-----------------+--------------------+-----------+------------+----------+\n",
            "only showing top 2 rows\n",
            "\n"
          ]
        }
      ]
    },
    {
      "cell_type": "code",
      "source": [
        "print((dataFrame.count(), len(dataFrame.columns)))"
      ],
      "metadata": {
        "colab": {
          "base_uri": "https://localhost:8080/"
        },
        "id": "wi9hP7BZT7qd",
        "outputId": "5f261b57-4b6f-4c0a-e4ba-a3a7bfe901db"
      },
      "execution_count": 18,
      "outputs": [
        {
          "output_type": "stream",
          "name": "stdout",
          "text": [
            "(10032, 10)\n"
          ]
        }
      ]
    },
    {
      "cell_type": "code",
      "source": [
        "dataFrame = dataFrame.orderBy(col(\"Data\"))"
      ],
      "metadata": {
        "id": "AM8Mvgmlz4SM"
      },
      "execution_count": 151,
      "outputs": []
    },
    {
      "cell_type": "code",
      "source": [
        "dataFrame.show(2)"
      ],
      "metadata": {
        "colab": {
          "base_uri": "https://localhost:8080/"
        },
        "id": "cnkdftvA0HBs",
        "outputId": "39cc8423-156c-42a8-bfbf-46b9435f11ba"
      },
      "execution_count": 158,
      "outputs": [
        {
          "output_type": "stream",
          "name": "stdout",
          "text": [
            "+-----+----------------+----------+--------+-------------+-----------------+--------------------+-----------+------------+----------+\n",
            "|Orgao|Orgao_Supervisor|      Data|Nr_da_OB|Nr_do_Empenho|Codigo_Favorecido|     Nome_Favorecido|Valor_Bruto|Valor_Retido|Valor_Pago|\n",
            "+-----+----------------+----------+--------+-------------+-----------------+--------------------+-----------+------------+----------+\n",
            "|SEFAZ|            null|2015-01-05|    1352| 2014NE000027|   00394460009289|DELEGACIA DA REC....| 2208808.65|         0.0|2208808.65|\n",
            "|SEFAZ|            null|2015-01-06|     321| 2014NE000592|   06938508000111|SERGIPE PARQUE TE...|  484217.36|         0.0| 484217.36|\n",
            "+-----+----------------+----------+--------+-------------+-----------------+--------------------+-----------+------------+----------+\n",
            "only showing top 2 rows\n",
            "\n"
          ]
        }
      ]
    },
    {
      "cell_type": "code",
      "source": [
        "dataFrame.write.csv(\"/content/drive/MyDrive/pagamentos_output\", mode=\"overwrite\")"
      ],
      "metadata": {
        "id": "wGfHozdyED85"
      },
      "execution_count": 197,
      "outputs": []
    },
    {
      "cell_type": "code",
      "source": [
        "dataFrame.createOrReplaceTempView(\"pagamentos\")"
      ],
      "metadata": {
        "id": "HgTCe_9A30Vf"
      },
      "execution_count": 154,
      "outputs": []
    },
    {
      "cell_type": "code",
      "source": [
        "dataFrameSQL = sc.sql(\"SELECT * FROM pagamentos pg where pg.Data <> '2016-02-05' \\\n",
        "and pg.Valor_Bruto > 1041.03 \\\n",
        "and pg.Nome_Favorecido like '%SERGIPE%'\")"
      ],
      "metadata": {
        "id": "ldPWrqGq36XN"
      },
      "execution_count": 180,
      "outputs": []
    },
    {
      "cell_type": "code",
      "source": [
        "dataFrameSQL = sc.sql(\"SELECT * FROM pagamentos pg WHERE pg.Valor_Pago <> (pg.Valor_Bruto - pg.Valor_Retido)\")"
      ],
      "metadata": {
        "id": "xutUPIMKAYg0"
      },
      "execution_count": 186,
      "outputs": []
    },
    {
      "cell_type": "code",
      "source": [
        "dataFrameSQL = sc.sql(\"SELECT * FROM pagamentos WHERE Valor_Pago = (SELECT MAX(Valor_Pago) FROM pagamentos)\")"
      ],
      "metadata": {
        "id": "zuvle_SPB97c"
      },
      "execution_count": 195,
      "outputs": []
    },
    {
      "cell_type": "code",
      "source": [
        "dataFrameSQL = sc.sql(\"SELECT * FROM pagamentos WHERE Valor_Pago = (SELECT MIN(Valor_Pago) FROM pagamentos)\")"
      ],
      "metadata": {
        "id": "OPN_JsgqCfeX"
      },
      "execution_count": 193,
      "outputs": []
    },
    {
      "cell_type": "code",
      "source": [
        "dataFrameSQL.show()"
      ],
      "metadata": {
        "colab": {
          "base_uri": "https://localhost:8080/"
        },
        "id": "5vHK1jIf4DZE",
        "outputId": "d1a517ab-e502-4eda-9728-fdd9769f1f19"
      },
      "execution_count": 196,
      "outputs": [
        {
          "output_type": "stream",
          "name": "stdout",
          "text": [
            "+-----+----------------+----------+--------+-------------+-----------------+--------------------+-------------+------------+-------------+\n",
            "|Orgao|Orgao_Supervisor|      Data|Nr_da_OB|Nr_do_Empenho|Codigo_Favorecido|     Nome_Favorecido|  Valor_Bruto|Valor_Retido|   Valor_Pago|\n",
            "+-----+----------------+----------+--------+-------------+-----------------+--------------------+-------------+------------+-------------+\n",
            "|SEFAZ|            null|2023-05-10|    2024| 2023NE000345|   13009717000146|BANCO DO ESTADO D...|3.262580576E7|         0.0|3.262580576E7|\n",
            "+-----+----------------+----------+--------+-------------+-----------------+--------------------+-------------+------------+-------------+\n",
            "\n"
          ]
        }
      ]
    }
  ]
}