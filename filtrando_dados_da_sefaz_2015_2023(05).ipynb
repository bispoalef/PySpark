{
  "nbformat": 4,
  "nbformat_minor": 0,
  "metadata": {
    "colab": {
      "provenance": []
    },
    "kernelspec": {
      "name": "python3",
      "display_name": "Python 3"
    },
    "language_info": {
      "name": "python"
    }
  },
  "cells": [
    {
      "cell_type": "markdown",
      "source": [
        "Instalar jdk"
      ],
      "metadata": {
        "id": "vB2K2rrzO_GK"
      }
    },
    {
      "cell_type": "code",
      "execution_count": 82,
      "metadata": {
        "id": "RXG6ZthCO0UI"
      },
      "outputs": [],
      "source": [
        "!apt-get install openjdk-8-jdk-headless -qq > /dev/null"
      ]
    },
    {
      "cell_type": "markdown",
      "source": [
        "instalar hadoop"
      ],
      "metadata": {
        "id": "zHmf0btPPH4L"
      }
    },
    {
      "cell_type": "code",
      "source": [
        "!wget -q https://archive.apache.org/dist/spark/spark-3.1.2/spark-3.1.2-bin-hadoop2.7.tgz"
      ],
      "metadata": {
        "id": "lJI600v3PLUW"
      },
      "execution_count": 83,
      "outputs": []
    },
    {
      "cell_type": "markdown",
      "source": [
        "extrair arquivo"
      ],
      "metadata": {
        "id": "13KECaACP8nh"
      }
    },
    {
      "cell_type": "code",
      "source": [
        "!tar xf spark-3.1.2-bin-hadoop2.7.tgz"
      ],
      "metadata": {
        "id": "5irpNZyuP_Nm"
      },
      "execution_count": 84,
      "outputs": []
    },
    {
      "cell_type": "markdown",
      "source": [
        "permite interagir com o sistema operacional"
      ],
      "metadata": {
        "id": "R2-zy_STQRqF"
      }
    },
    {
      "cell_type": "code",
      "source": [
        "import os"
      ],
      "metadata": {
        "id": "_OvDxFM_QST6"
      },
      "execution_count": 85,
      "outputs": []
    },
    {
      "cell_type": "markdown",
      "source": [
        "criando variavel de ambiente java"
      ],
      "metadata": {
        "id": "9WHWbuQqQW9r"
      }
    },
    {
      "cell_type": "code",
      "source": [
        "os.environ[\"JAVA_HOME\"] = \"/usr/lib/jvm/java-8-openjdk-amd64\""
      ],
      "metadata": {
        "id": "BRlQ8XtJQZtO"
      },
      "execution_count": 86,
      "outputs": []
    },
    {
      "cell_type": "markdown",
      "source": [
        "criando variavel de ambiente spark"
      ],
      "metadata": {
        "id": "ed1muJuGQbOX"
      }
    },
    {
      "cell_type": "code",
      "source": [
        "os.environ[\"SPARK_HOME\"] = \"/content/spark-3.1.2-bin-hadoop2.7\""
      ],
      "metadata": {
        "id": "y-XvHNnCQaoL"
      },
      "execution_count": 87,
      "outputs": []
    },
    {
      "cell_type": "markdown",
      "source": [
        "pacote Python que facilita a integração do Apache Spark"
      ],
      "metadata": {
        "id": "M8PsqK3HQtkl"
      }
    },
    {
      "cell_type": "code",
      "source": [
        "!pip install -q findspark"
      ],
      "metadata": {
        "id": "wH2QfzzsQusE"
      },
      "execution_count": 88,
      "outputs": []
    },
    {
      "cell_type": "markdown",
      "source": [
        "importando no projeto"
      ],
      "metadata": {
        "id": "dNDSh5_WQypy"
      }
    },
    {
      "cell_type": "code",
      "source": [
        "import findspark"
      ],
      "metadata": {
        "id": "XQV47aaDQ4vH"
      },
      "execution_count": 89,
      "outputs": []
    },
    {
      "cell_type": "markdown",
      "source": [
        "iniciando findSpark"
      ],
      "metadata": {
        "id": "TWpqv38GRNlf"
      }
    },
    {
      "cell_type": "code",
      "source": [
        "findspark.init()"
      ],
      "metadata": {
        "id": "pTVKKD5QQ882"
      },
      "execution_count": 90,
      "outputs": []
    },
    {
      "cell_type": "markdown",
      "source": [
        "classe central no Spark que fornece uma interface para programação em Spark com DataFrames e Datasets."
      ],
      "metadata": {
        "id": "cj7HbDyuRJB5"
      }
    },
    {
      "cell_type": "code",
      "source": [
        "from pyspark.sql import SparkSession"
      ],
      "metadata": {
        "id": "SFfbFeUzRJku"
      },
      "execution_count": 91,
      "outputs": []
    },
    {
      "cell_type": "markdown",
      "source": [
        "import para lidar com colunas da tabela e com substring"
      ],
      "metadata": {
        "id": "9LXHI4PNQCzp"
      }
    },
    {
      "cell_type": "code",
      "source": [
        "from pyspark.sql.functions import col, substring, to_date"
      ],
      "metadata": {
        "id": "V61RzL6l1LCN"
      },
      "execution_count": 92,
      "outputs": []
    },
    {
      "cell_type": "markdown",
      "source": [
        "importando todos os tipos para tratamendo de dados"
      ],
      "metadata": {
        "id": "cMGzIfigQLGL"
      }
    },
    {
      "cell_type": "code",
      "source": [
        "from pyspark.sql.types import *"
      ],
      "metadata": {
        "id": "yrXkm7EqYmlK"
      },
      "execution_count": 93,
      "outputs": []
    },
    {
      "cell_type": "markdown",
      "source": [
        "criando variavel spark"
      ],
      "metadata": {
        "id": "2Cj7ZNCoQTI0"
      }
    },
    {
      "cell_type": "code",
      "source": [
        "spark = SparkSession.builder.getOrCreate()"
      ],
      "metadata": {
        "id": "OcD2D4DpbEM5"
      },
      "execution_count": 94,
      "outputs": []
    },
    {
      "cell_type": "markdown",
      "source": [
        "testando a variavél para ver se esta tudo certo"
      ],
      "metadata": {
        "id": "lBpkoa01Rfi0"
      }
    },
    {
      "cell_type": "code",
      "source": [
        "spark"
      ],
      "metadata": {
        "colab": {
          "base_uri": "https://localhost:8080/",
          "height": 219
        },
        "id": "edewfyMTRd4T",
        "outputId": "0adda44f-2e32-41ff-dbc4-bbbcc986f27f"
      },
      "execution_count": 95,
      "outputs": [
        {
          "output_type": "execute_result",
          "data": {
            "text/plain": [
              "<pyspark.sql.session.SparkSession at 0x7f1ec36c4eb0>"
            ],
            "text/html": [
              "\n",
              "            <div>\n",
              "                <p><b>SparkSession - in-memory</b></p>\n",
              "                \n",
              "        <div>\n",
              "            <p><b>SparkContext</b></p>\n",
              "\n",
              "            <p><a href=\"http://0e19f4decf18:4040\">Spark UI</a></p>\n",
              "\n",
              "            <dl>\n",
              "              <dt>Version</dt>\n",
              "                <dd><code>v3.1.2</code></dd>\n",
              "              <dt>Master</dt>\n",
              "                <dd><code>local[*]</code></dd>\n",
              "              <dt>AppName</dt>\n",
              "                <dd><code>pyspark-shell</code></dd>\n",
              "            </dl>\n",
              "        </div>\n",
              "        \n",
              "            </div>\n",
              "        "
            ]
          },
          "metadata": {},
          "execution_count": 95
        }
      ]
    },
    {
      "cell_type": "markdown",
      "source": [
        "setando os arquivos vindos da SEFAZ"
      ],
      "metadata": {
        "id": "eFufRN1_T6IF"
      }
    },
    {
      "cell_type": "code",
      "source": [
        "file_paths = [\"/dadosSefaz/Despesa_por_Mes.csv\",\n",
        "              \"/dadosSefaz/Despesa_por_Mes (1).csv\",\n",
        "    \"/dadosSefaz/Despesa_por_Mes (2).csv\",\n",
        "    \"/dadosSefaz/Despesa_por_Mes (3).csv\",\n",
        "    \"/dadosSefaz/Despesa_por_Mes (4).csv\",\n",
        "    \"/dadosSefaz/Despesa_por_Mes (5).csv\",\n",
        "    \"/dadosSefaz/Despesa_por_Mes (6).csv\",\n",
        "    \"/dadosSefaz/Despesa_por_Mes (7).csv\",\n",
        "    \"/dadosSefaz/Despesa_por_Mes (8).csv\",\n",
        "    \"/dadosSefaz/Despesa_por_Mes (9).csv\",\n",
        "    \"/dadosSefaz/Despesa_por_Mes (10).csv\",\n",
        "    \"/dadosSefaz/Despesa_por_Mes (11).csv\",\n",
        "    \"/dadosSefaz/Despesa_por_Mes (12).csv\",\n",
        "    \"/dadosSefaz/Despesa_por_Mes (13).csv\",\n",
        "    \"/dadosSefaz/Despesa_por_Mes (14).csv\",\n",
        "    \"/dadosSefaz/Despesa_por_Mes (15).csv\",\n",
        "    \"/dadosSefaz/Despesa_por_Mes (16).csv\",\n",
        "    \"/dadosSefaz/Despesa_por_Mes (17).csv\",\n",
        "    \"/dadosSefaz/Despesa_por_Mes (18).csv\",\n",
        "    \"/dadosSefaz/Despesa_por_Mes (19).csv\",\n",
        "    \"/dadosSefaz/Despesa_por_Mes (20).csv\",\n",
        "    \"/dadosSefaz/Despesa_por_Mes (21).csv\",\n",
        "    \"/dadosSefaz/Despesa_por_Mes (22).csv\",\n",
        "    \"/dadosSefaz/Despesa_por_Mes (23).csv\",\n",
        "    \"/dadosSefaz/Despesa_por_Mes (24).csv\",\n",
        "    \"/dadosSefaz/Despesa_por_Mes (25).csv\",\n",
        "    \"/dadosSefaz/Despesa_por_Mes (26).csv\",\n",
        "    \"/dadosSefaz/Despesa_por_Mes (27).csv\",\n",
        "    \"/dadosSefaz/Despesa_por_Mes (28).csv\",\n",
        "    \"/dadosSefaz/Despesa_por_Mes (29).csv\",\n",
        "    \"/dadosSefaz/Despesa_por_Mes (30).csv\",\n",
        "    \"/dadosSefaz/Despesa_por_Mes (31).csv\",\n",
        "    \"/dadosSefaz/Despesa_por_Mes (32).csv\",\n",
        "    \"/dadosSefaz/Despesa_por_Mes (33).csv\",\n",
        "    \"/dadosSefaz/Despesa_por_Mes (34).csv\",\n",
        "    \"/dadosSefaz/Despesa_por_Mes (35).csv\",\n",
        "    \"/dadosSefaz/Despesa_por_Mes (36).csv\",\n",
        "    \"/dadosSefaz/Despesa_por_Mes (37).csv\",\n",
        "    \"/dadosSefaz/Despesa_por_Mes (38).csv\",\n",
        "    \"/dadosSefaz/Despesa_por_Mes (39).csv\",\n",
        "    \"/dadosSefaz/Despesa_por_Mes (40).csv\",\n",
        "    \"/dadosSefaz/Despesa_por_Mes (41).csv\",\n",
        "    \"/dadosSefaz/Despesa_por_Mes (42).csv\",\n",
        "    \"/dadosSefaz/Despesa_por_Mes (43).csv\",\n",
        "    \"/dadosSefaz/Despesa_por_Mes (44).csv\",\n",
        "    \"/dadosSefaz/Despesa_por_Mes (45).csv\",\n",
        "    \"/dadosSefaz/Despesa_por_Mes (46).csv\",\n",
        "    \"/dadosSefaz/Despesa_por_Mes (47).csv\",\n",
        "    \"/dadosSefaz/Despesa_por_Mes (48).csv\",\n",
        "    \"/dadosSefaz/Despesa_por_Mes (49).csv\",\n",
        "    \"/dadosSefaz/Despesa_por_Mes (50).csv\",\n",
        "    \"/dadosSefaz/Despesa_por_Mes (51).csv\",\n",
        "    \"/dadosSefaz/Despesa_por_Mes (52).csv\",\n",
        "    \"/dadosSefaz/Despesa_por_Mes (53).csv\",\n",
        "    \"/dadosSefaz/Despesa_por_Mes (54).csv\",\n",
        "    \"/dadosSefaz/Despesa_por_Mes (55).csv\",\n",
        "    \"/dadosSefaz/Despesa_por_Mes (56).csv\",\n",
        "    \"/dadosSefaz/Despesa_por_Mes (57).csv\",\n",
        "    \"/dadosSefaz/Despesa_por_Mes (58).csv\",\n",
        "    \"/dadosSefaz/Despesa_por_Mes (59).csv\",\n",
        "    \"/dadosSefaz/Despesa_por_Mes (60).csv\",\n",
        "    \"/dadosSefaz/Despesa_por_Mes (61).csv\",\n",
        "    \"/dadosSefaz/Despesa_por_Mes (62).csv\",\n",
        "    \"/dadosSefaz/Despesa_por_Mes (63).csv\",\n",
        "    \"/dadosSefaz/Despesa_por_Mes (64).csv\",\n",
        "    \"/dadosSefaz/Despesa_por_Mes (65).csv\",\n",
        "    \"/dadosSefaz/Despesa_por_Mes (66).csv\",\n",
        "    \"/dadosSefaz/Despesa_por_Mes (67).csv\",\n",
        "    \"/dadosSefaz/Despesa_por_Mes (68).csv\",\n",
        "    \"/dadosSefaz/Despesa_por_Mes (69).csv\",\n",
        "    \"/dadosSefaz/Despesa_por_Mes (70).csv\",\n",
        "    \"/dadosSefaz/Despesa_por_Mes (71).csv\",\n",
        "    \"/dadosSefaz/Despesa_por_Mes (72).csv\",\n",
        "    \"/dadosSefaz/Despesa_por_Mes (73).csv\",\n",
        "    \"/dadosSefaz/Despesa_por_Mes (74).csv\",\n",
        "    \"/dadosSefaz/Despesa_por_Mes (75).csv\",\n",
        "    \"/dadosSefaz/Despesa_por_Mes (76).csv\",\n",
        "    \"/dadosSefaz/Despesa_por_Mes (77).csv\",\n",
        "    \"/dadosSefaz/Despesa_por_Mes (78).csv\",\n",
        "    \"/dadosSefaz/Despesa_por_Mes (79).csv\",\n",
        "    \"/dadosSefaz/Despesa_por_Mes (80).csv\",\n",
        "    \"/dadosSefaz/Despesa_por_Mes (81).csv\",\n",
        "    \"/dadosSefaz/Despesa_por_Mes (82).csv\",\n",
        "    \"/dadosSefaz/Despesa_por_Mes (83).csv\",\n",
        "    \"/dadosSefaz/Despesa_por_Mes (84).csv\",\n",
        "    \"/dadosSefaz/Despesa_por_Mes (85).csv\",\n",
        "    \"/dadosSefaz/Despesa_por_Mes (86).csv\",\n",
        "    \"/dadosSefaz/Despesa_por_Mes (87).csv\",\n",
        "    \"/dadosSefaz/Despesa_por_Mes (88).csv\",\n",
        "    \"/dadosSefaz/Despesa_por_Mes (89).csv\",\n",
        "    \"/dadosSefaz/Despesa_por_Mes (90).csv\",\n",
        "    \"/dadosSefaz/Despesa_por_Mes (91).csv\",\n",
        "    \"/dadosSefaz/Despesa_por_Mes (92).csv\",\n",
        "    \"/dadosSefaz/Despesa_por_Mes (93).csv\",\n",
        "    \"/dadosSefaz/Despesa_por_Mes (94).csv\",\n",
        "    \"/dadosSefaz/Despesa_por_Mes (95).csv\",\n",
        "    \"/dadosSefaz/Despesa_por_Mes (96).csv\",\n",
        "    \"/dadosSefaz/Despesa_por_Mes (97).csv\",\n",
        "    \"/dadosSefaz/Despesa_por_Mes (98).csv\",\n",
        "    \"/dadosSefaz/Despesa_por_Mes (99).csv\",\n",
        "    \"/dadosSefaz/Despesa_por_Mes (100).csv\",\n",
        "    \"/dadosSefaz/Despesa_por_Mes (101).csv\",\n",
        "    \"/dadosSefaz/Despesa_por_Mes (102).csv\",\n",
        "    \"/dadosSefaz/Despesa_por_Mes (103).csv\",\n",
        "    \"/dadosSefaz/Despesa_por_Mes (104).csv\"]"
      ],
      "metadata": {
        "id": "gVK3VhDCT-_7"
      },
      "execution_count": 96,
      "outputs": []
    },
    {
      "cell_type": "markdown",
      "source": [
        "convertendo dados para dataFrame"
      ],
      "metadata": {
        "id": "KFyql0L2Wd70"
      }
    },
    {
      "cell_type": "code",
      "source": [
        "dataFrame = spark.read.csv(file_paths)"
      ],
      "metadata": {
        "id": "wQqS2la0bI9l"
      },
      "execution_count": 97,
      "outputs": []
    },
    {
      "cell_type": "markdown",
      "source": [
        "vefificando se realmente foi convertido a data frame"
      ],
      "metadata": {
        "id": "295l_vSxU7pP"
      }
    },
    {
      "cell_type": "code",
      "source": [
        "type(dataFrame)"
      ],
      "metadata": {
        "colab": {
          "base_uri": "https://localhost:8080/"
        },
        "id": "IpcuC4P6U6oc",
        "outputId": "97d2a7ac-299c-4e5a-9f63-8358dd0418fe"
      },
      "execution_count": 98,
      "outputs": [
        {
          "output_type": "execute_result",
          "data": {
            "text/plain": [
              "pyspark.sql.dataframe.DataFrame"
            ]
          },
          "metadata": {},
          "execution_count": 98
        }
      ]
    },
    {
      "cell_type": "markdown",
      "source": [
        "verificando o se foi convertido corretamente os tipos dad variaveis"
      ],
      "metadata": {
        "id": "K-sbgCo5ezf3"
      }
    },
    {
      "cell_type": "code",
      "source": [
        "dataFrame.printSchema()"
      ],
      "metadata": {
        "id": "HyTIHiPdVDaQ",
        "colab": {
          "base_uri": "https://localhost:8080/"
        },
        "outputId": "9a8360ef-dd90-4e55-a187-a039588e73c3"
      },
      "execution_count": 99,
      "outputs": [
        {
          "output_type": "stream",
          "name": "stdout",
          "text": [
            "root\n",
            " |-- _c0: string (nullable = true)\n",
            " |-- _c1: string (nullable = true)\n",
            " |-- _c2: string (nullable = true)\n",
            " |-- _c3: string (nullable = true)\n",
            " |-- _c4: string (nullable = true)\n",
            " |-- _c5: string (nullable = true)\n",
            " |-- _c6: string (nullable = true)\n",
            " |-- _c7: string (nullable = true)\n",
            " |-- _c8: string (nullable = true)\n",
            " |-- _c9: string (nullable = true)\n",
            "\n"
          ]
        }
      ]
    },
    {
      "cell_type": "markdown",
      "source": [],
      "metadata": {
        "id": "iQPrvlViQjGL"
      }
    },
    {
      "cell_type": "code",
      "source": [
        "dataFrame.show(2)"
      ],
      "metadata": {
        "colab": {
          "base_uri": "https://localhost:8080/"
        },
        "id": "fzjOUKF2IdeA",
        "outputId": "f9d46c5d-109f-44db-833b-09e0464eb838"
      },
      "execution_count": 100,
      "outputs": [
        {
          "output_type": "stream",
          "name": "stdout",
          "text": [
            "+-----+----------------+----------+--------+-------------+-----------------+--------------------+----------------+-----------------+---------------+\n",
            "|  _c0|             _c1|       _c2|     _c3|          _c4|              _c5|                 _c6|             _c7|              _c8|            _c9|\n",
            "+-----+----------------+----------+--------+-------------+-----------------+--------------------+----------------+-----------------+---------------+\n",
            "|Orgão|Orgão Supervisor|      Data|Nº da OB|Nº do Empenho|Código Favorecido|     Nome Favorecido|Valor Bruto (R$)|Valor Retido (R$)|Valor Pago (R$)|\n",
            "|SEFAZ|            null|31/08/2016|    4374| 2016NE000096|   00360305000104|CAIXA ECONOMICA F...|       31.022,39|             0,00|      31.022,39|\n",
            "+-----+----------------+----------+--------+-------------+-----------------+--------------------+----------------+-----------------+---------------+\n",
            "only showing top 2 rows\n",
            "\n"
          ]
        }
      ]
    },
    {
      "cell_type": "markdown",
      "source": [
        "renomeando colunas"
      ],
      "metadata": {
        "id": "zBRKlIcz7TOD"
      }
    },
    {
      "cell_type": "code",
      "source": [
        "dataFrame = dataFrame.withColumnRenamed(\"_c0\", \"Orgao\") \\\n",
        "       .withColumnRenamed(\"_c1\", \"Orgao_Supervisor\") \\\n",
        "       .withColumnRenamed(\"_c2\", \"Data\") \\\n",
        "       .withColumnRenamed(\"_c3\", \"Nr_da_OB\") \\\n",
        "       .withColumnRenamed(\"_c4\", \"Nr_do_Empenho\") \\\n",
        "       .withColumnRenamed(\"_c5\", \"Codigo_Favorecido\") \\\n",
        "       .withColumnRenamed(\"_c6\", \"Nome_Favorecido\") \\\n",
        "       .withColumnRenamed(\"_c7\", \"Valor_Bruto\") \\\n",
        "       .withColumnRenamed(\"_c8\", \"Valor_Retido\") \\\n",
        "       .withColumnRenamed(\"_c9\", \"Valor_Pago\") \\\n",
        "       "
      ],
      "metadata": {
        "id": "JCxZJBQQy6Yy"
      },
      "execution_count": 101,
      "outputs": []
    },
    {
      "cell_type": "markdown",
      "source": [
        "excluindo primeira linha das tabelas"
      ],
      "metadata": {
        "id": "sgeT8z7p7V04"
      }
    },
    {
      "cell_type": "code",
      "source": [
        "dataFrame = dataFrame.subtract(dataFrame.limit(1))"
      ],
      "metadata": {
        "id": "N0-YloRtz-xb"
      },
      "execution_count": 102,
      "outputs": []
    },
    {
      "cell_type": "markdown",
      "source": [
        "testando se tudo ocorreu como esperado"
      ],
      "metadata": {
        "id": "Yf-wPki67akw"
      }
    },
    {
      "cell_type": "code",
      "source": [
        "dataFrame.show(2)"
      ],
      "metadata": {
        "colab": {
          "base_uri": "https://localhost:8080/"
        },
        "id": "DGv6l8nSWSlm",
        "outputId": "c9e130b0-5bd2-412f-f7e4-89304065f245"
      },
      "execution_count": 103,
      "outputs": [
        {
          "output_type": "stream",
          "name": "stdout",
          "text": [
            "+-----+----------------+----------+--------+-------------+-----------------+--------------------+-----------+------------+----------+\n",
            "|Orgao|Orgao_Supervisor|      Data|Nr_da_OB|Nr_do_Empenho|Codigo_Favorecido|     Nome_Favorecido|Valor_Bruto|Valor_Retido|Valor_Pago|\n",
            "+-----+----------------+----------+--------+-------------+-----------------+--------------------+-----------+------------+----------+\n",
            "|SEFAZ|            null|25/08/2016|    4301| 2016NE000088|      XXX827075XX|MARIA ROSALIA LEA...|     214,29|       64,29|    150,00|\n",
            "|SEFAZ|            null|23/08/2016|    3959| 2016NE000029|      XXX635735XX|ANTONIO MARCIO DO...|     320,00|        0,00|    320,00|\n",
            "+-----+----------------+----------+--------+-------------+-----------------+--------------------+-----------+------------+----------+\n",
            "only showing top 2 rows\n",
            "\n"
          ]
        }
      ]
    },
    {
      "cell_type": "markdown",
      "source": [
        "ornenando dados por ano "
      ],
      "metadata": {
        "id": "zMre5_FC7gGB"
      }
    },
    {
      "cell_type": "code",
      "source": [
        "dataFrame = dataFrame.orderBy(substring(col(\"Data\"), 7, 4))"
      ],
      "metadata": {
        "id": "OgzSj-zQK3em"
      },
      "execution_count": 104,
      "outputs": []
    },
    {
      "cell_type": "markdown",
      "source": [
        "verificando novamente"
      ],
      "metadata": {
        "id": "PJSLui10RLQ2"
      }
    },
    {
      "cell_type": "code",
      "source": [
        "dataFrame.show(2)"
      ],
      "metadata": {
        "colab": {
          "base_uri": "https://localhost:8080/"
        },
        "id": "qkV4pF29fsL3",
        "outputId": "004d2e76-1051-48ee-c395-2f8033c92792"
      },
      "execution_count": 105,
      "outputs": [
        {
          "output_type": "stream",
          "name": "stdout",
          "text": [
            "+-----+----------------+----------+--------+-------------+-----------------+--------------------+-----------+------------+----------+\n",
            "|Orgao|Orgao_Supervisor|      Data|Nr_da_OB|Nr_do_Empenho|Codigo_Favorecido|     Nome_Favorecido|Valor_Bruto|Valor_Retido|Valor_Pago|\n",
            "+-----+----------------+----------+--------+-------------+-----------------+--------------------+-----------+------------+----------+\n",
            "|SEFAZ|            null|25/08/2015|    3906| 2015NE000024|      XXX011265XX|FRANCISCO ALBERTO...|      20,00|        0,00|     20,00|\n",
            "|SEFAZ|            null|12/08/2015|    3631| 2015NE000022|      XXX114285XX|JUAREZ MARQUES FILHO|     200,00|        0,00|    200,00|\n",
            "+-----+----------------+----------+--------+-------------+-----------------+--------------------+-----------+------------+----------+\n",
            "only showing top 2 rows\n",
            "\n"
          ]
        }
      ]
    },
    {
      "cell_type": "markdown",
      "source": [
        "criando o arquivo para exportar"
      ],
      "metadata": {
        "id": "9VEaQIqQ7w9p"
      }
    },
    {
      "cell_type": "code",
      "source": [
        "print((dataFrame.count(), len(dataFrame.columns)))"
      ],
      "metadata": {
        "colab": {
          "base_uri": "https://localhost:8080/"
        },
        "id": "zjqgdifCrfYY",
        "outputId": "a4174b56-acd7-49a3-a242-c734f64fc820"
      },
      "execution_count": 106,
      "outputs": [
        {
          "output_type": "stream",
          "name": "stdout",
          "text": [
            "(35720, 10)\n"
          ]
        }
      ]
    },
    {
      "cell_type": "code",
      "source": [
        "dataFrame = dataFrame.dropDuplicates([\"Data\", \"Nr_da_OB\", \"Codigo_Favorecido\", \"Nome_Favorecido\", \"Valor_Bruto\"])"
      ],
      "metadata": {
        "id": "upG62jBNr4hq"
      },
      "execution_count": 111,
      "outputs": []
    },
    {
      "cell_type": "code",
      "source": [
        "print((dataFrame.count(), len(dataFrame.columns)))"
      ],
      "metadata": {
        "colab": {
          "base_uri": "https://localhost:8080/"
        },
        "id": "WWHzw4Fyr9a3",
        "outputId": "788bde5b-c208-4534-984c-867fba3c836f"
      },
      "execution_count": 112,
      "outputs": [
        {
          "output_type": "stream",
          "name": "stdout",
          "text": [
            "(35720, 10)\n"
          ]
        }
      ]
    },
    {
      "cell_type": "code",
      "source": [
        "dataFrame.coalesce(1).write.csv(\"/sefaz/todos_dados_sefaz-2015-2023(05)\", mode=\"overwrite\")"
      ],
      "metadata": {
        "id": "ms-9oeFsgS4e"
      },
      "execution_count": 113,
      "outputs": []
    }
  ]
}